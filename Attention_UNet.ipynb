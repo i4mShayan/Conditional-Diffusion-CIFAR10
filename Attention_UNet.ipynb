{
 "cells": [
  {
   "cell_type": "code",
   "execution_count": 14,
   "metadata": {
    "_cell_guid": "b1076dfc-b9ad-4769-8c92-a6c4dae69d19",
    "_uuid": "8f2839f25d086af736a60e9eeb907d3b93b6e0e5",
    "execution": {
     "iopub.execute_input": "2025-02-07T15:23:22.634337Z",
     "iopub.status.busy": "2025-02-07T15:23:22.633993Z",
     "iopub.status.idle": "2025-02-07T15:23:22.639674Z",
     "shell.execute_reply": "2025-02-07T15:23:22.638465Z",
     "shell.execute_reply.started": "2025-02-07T15:23:22.634307Z"
    },
    "trusted": true
   },
   "outputs": [],
   "source": [
    "import torch\n",
    "import torch.nn as nn\n",
    "import torch.nn.functional as F\n",
    "import torch.optim as opt\n",
    "import matplotlib.pyplot as plt\n",
    "from torchvision import transforms, datasets\n",
    "from torch.cuda import amp\n",
    "from tqdm.notebook import tqdm\n",
    "import random\n",
    "import numpy as np\n",
    "import math\n",
    "import os\n",
    "\n",
    "import warnings\n",
    "warnings.filterwarnings('ignore')"
   ]
  },
  {
   "cell_type": "code",
   "execution_count": 15,
   "metadata": {
    "execution": {
     "iopub.execute_input": "2025-02-07T15:23:23.838954Z",
     "iopub.status.busy": "2025-02-07T15:23:23.838653Z",
     "iopub.status.idle": "2025-02-07T15:23:23.844341Z",
     "shell.execute_reply": "2025-02-07T15:23:23.843287Z",
     "shell.execute_reply.started": "2025-02-07T15:23:23.838930Z"
    },
    "trusted": true
   },
   "outputs": [],
   "source": [
    "config = {\n",
    "    \"beta_start\": 1e-4,\n",
    "    \"beta_end\": 0.02,\n",
    "    \"steps\": 1000,\n",
    "    \"device_id\": 0,\n",
    "    \"image_size\": 32,\n",
    "    \"image_channel\": 3,\n",
    "    \"epochs\": 50,\n",
    "    \"lr\": 3e-4,\n",
    "    \"weight_decay\": 0,\n",
    "    \"batch_size\": 200,\n",
    "    \"num_class\": 10,\n",
    "    \"pos_dim\": 1024,\n",
    "    \"patience\": 10\n",
    "}\n",
    "\n",
    "# Class labels for CIFAR-10\n",
    "class_labels = [\n",
    "    \"Airplane\", \"Automobile\", \"Bird\", \"Cat\", \"Deer\",\n",
    "    \"Dog\", \"Frog\", \"Horse\", \"Ship\", \"Truck\"\n",
    "]\n",
    "\n",
    "device = torch.device(f\"cuda:{config['device_id']}\" if torch.cuda.is_available() else \"cpu\")"
   ]
  },
  {
   "cell_type": "code",
   "execution_count": 16,
   "metadata": {
    "execution": {
     "iopub.execute_input": "2025-02-07T15:23:32.674447Z",
     "iopub.status.busy": "2025-02-07T15:23:32.674092Z",
     "iopub.status.idle": "2025-02-07T15:23:32.690502Z",
     "shell.execute_reply": "2025-02-07T15:23:32.689195Z",
     "shell.execute_reply.started": "2025-02-07T15:23:32.674419Z"
    },
    "trusted": true
   },
   "outputs": [],
   "source": [
    "# Forward pass\n",
    "def forward_pass(images, t):\n",
    "    batch_sqrt_alphas_cumprod = sqrt_alphas_cumprod[t]\n",
    "    batch_sqrt_one_minus_alphas_cumprod = sqrt_one_minus_alphas_cumprod[t]\n",
    "    noise = torch.randn_like(images).cuda(config['device_id'])\n",
    "\n",
    "    return batch_sqrt_alphas_cumprod * images + batch_sqrt_one_minus_alphas_cumprod * noise, noise\n",
    "\n",
    "def sampling(model, labels, cfg_scale: int = 3, epoch: int = 0):\n",
    "    # Extract relevant parameters from the config dictionary\n",
    "    steps = config[\"steps\"]\n",
    "    image_size = config[\"image_size\"]\n",
    "    image_channel = config[\"image_channel\"]\n",
    "    device_id = config[\"device_id\"]\n",
    "    num_classes = config[\"num_class\"]\n",
    "\n",
    "    class_labels = [\n",
    "        \"Airplane\", \"Automobile\", \"Bird\", \"Cat\", \"Deer\",\n",
    "        \"Dog\", \"Frog\", \"Horse\", \"Ship\", \"Truck\"\n",
    "    ]\n",
    "\n",
    "    # Create output directory if it doesn't exist\n",
    "    output_dir = \"generated_images\"\n",
    "    os.makedirs(output_dir, exist_ok=True)\n",
    "\n",
    "    model.eval()\n",
    "    with torch.no_grad():\n",
    "        # Initialize random noise tensor\n",
    "        x = torch.randn(labels.shape[0], image_channel, image_size, image_size).cuda(device_id)\n",
    "\n",
    "        for i in tqdm(range(steps - 1, -1, -1)):\n",
    "            # Time step tensor\n",
    "            t = torch.tensor([i] * labels.shape[0]).cuda(device_id)\n",
    "\n",
    "            # Classifier-free guidance\n",
    "            predicted_noise_no_label = model(x, t, None)\n",
    "            predicted_noise_with_label = model(x, t, labels)\n",
    "            predicted_noise = torch.lerp(predicted_noise_no_label, predicted_noise_with_label, cfg_scale)\n",
    "\n",
    "            # Conditional noise handling\n",
    "            if i == 0:\n",
    "                noise = torch.zeros_like(x).cuda(device_id)\n",
    "            else:\n",
    "                noise = torch.randn_like(x).cuda(device_id)\n",
    "\n",
    "            # Update step for x\n",
    "            x = one_over_sqrt_alpha[t] * (\n",
    "                x - ((one_minus_alpha[t]) / (sqrt_one_minus_alphas_cumprod[t])) * predicted_noise\n",
    "            ) + sqrt_beta[t] * noise\n",
    "\n",
    "    model.train()\n",
    "\n",
    "    # Post-process the generated images\n",
    "    x = (x.clamp(-1, 1) + 1) / 2  # Scale to [0, 1]\n",
    "    x = (x * 255).type(torch.uint8)  # Scale to [0, 255]\n",
    "\n",
    "    # Plot all generated images in a row\n",
    "    num_images = x.shape[0]\n",
    "    fig, axes = plt.subplots(1, num_images, figsize=(num_images * 2, 2))\n",
    "\n",
    "    for i, ax in enumerate(axes):\n",
    "        # Convert tensor to (H, W, C) format for visualization\n",
    "        tensor = x[i].permute(1, 2, 0).to(\"cpu\").numpy()\n",
    "        ax.imshow(tensor)\n",
    "        ax.axis(\"off\")\n",
    "        ax.set_title(f\"{class_labels[labels[i].item()]}\", fontsize=10)\n",
    "\n",
    "    # Add overall title\n",
    "    plt.suptitle(f\"Generated Images (Epoch: {epoch}, Number of Classes: {num_classes})\", fontsize=14)\n",
    "    plt.tight_layout()\n",
    "\n",
    "    # Save the plot\n",
    "    output_file = os.path.join(output_dir, f\"generated_images_epoch_{epoch}.png\")\n",
    "    plt.savefig(output_file, bbox_inches='tight')\n",
    "    plt.close()\n",
    "    print(f\"Saved generated images to {output_file}\")\n",
    "\n",
    "\n",
    "def positional_embedding(num_step: int, emb_dim: int) -> torch.Tensor:\n",
    "    \"\"\"\n",
    "    Create positional embedding tensor.\n",
    "\n",
    "    :param num_step: Number of time steps.\n",
    "    :param emb_dim: Embedding dimension.\n",
    "    :return: Positional embedding tensor.\n",
    "    \"\"\"\n",
    "    matrix = torch.zeros(num_step, emb_dim)\n",
    "    for i in range(num_step):\n",
    "        for j in range(0, emb_dim, 2):\n",
    "            matrix[i, j] = np.sin(i/(10000**(j/emb_dim)))\n",
    "            if(j+1<emb_dim):\n",
    "                matrix[i, j+1] = np.cos(i/(10000**(j/emb_dim)))\n",
    "\n",
    "    return matrix\n",
    "\n",
    "def sinusoidal_positional_encoding_2d(height: int, width: int, channel: int) -> torch.Tensor:\n",
    "    \"\"\"\n",
    "    Generate a 2D sinusoidal positional encoding.\n",
    "\n",
    "    :param height: The height of the encoding.\n",
    "    :param width: The width of the encoding.\n",
    "    :param channel: The number of channels in the encoding.\n",
    "    :return: A tensor of shape (height, width, channel) containing the 2D positional encoding.\n",
    "    \"\"\"\n",
    "    if channel % 2 != 0:\n",
    "        raise ValueError(\"The 'channel' dimension must be an even number.\")\n",
    "\n",
    "    # First, build in (height, width, channel) format\n",
    "    pe = torch.zeros(height, width, channel)\n",
    "\n",
    "    half_ch = channel // 2\n",
    "\n",
    "    # Precompute the exponent for row and column\n",
    "    row_div_term = torch.exp(\n",
    "        -math.log(10000.0) * (torch.arange(0, half_ch, 2).float() / half_ch)\n",
    "    )\n",
    "    col_div_term = torch.exp(\n",
    "        -math.log(10000.0) * (torch.arange(0, half_ch, 2).float() / half_ch)\n",
    "    )\n",
    "\n",
    "    for h in range(height):\n",
    "        for w in range(width):\n",
    "            # Encode row index (h) into the first half of the channels\n",
    "            for i in range(0, half_ch, 2):\n",
    "                pe[h, w, i]     = math.sin(h * row_div_term[i // 2])\n",
    "                pe[h, w, i + 1] = math.cos(h * row_div_term[i // 2])\n",
    "\n",
    "            # Encode column index (w) into the second half of the channels\n",
    "            for j in range(0, half_ch, 2):\n",
    "                pe[h, w, half_ch + j]     = math.sin(w * col_div_term[j // 2])\n",
    "                pe[h, w, half_ch + j + 1] = math.cos(w * col_div_term[j // 2])\n",
    "\n",
    "    # Permute to get the shape (channel, width, height).\n",
    "    # Currently pe is (height, width, channel) = (H, W, C)\n",
    "    # We want (C, W, H), so we do permute(2, 1, 0).\n",
    "    pe = pe.permute(2, 1, 0)  # => (channel, width, height)\n",
    "\n",
    "    return pe\n",
    "\n",
    "def zero_out(layer):\n",
    "    for p in layer.parameters():\n",
    "        p.detach().zero_()\n",
    "    return layer"
   ]
  },
  {
   "cell_type": "code",
   "execution_count": 17,
   "metadata": {
    "execution": {
     "iopub.execute_input": "2025-02-07T15:23:33.015833Z",
     "iopub.status.busy": "2025-02-07T15:23:33.015491Z",
     "iopub.status.idle": "2025-02-07T15:23:33.043564Z",
     "shell.execute_reply": "2025-02-07T15:23:33.042638Z",
     "shell.execute_reply.started": "2025-02-07T15:23:33.015808Z"
    },
    "trusted": true
   },
   "outputs": [],
   "source": [
    "class AdaNorm(nn.Module):\n",
    "    def __init__(self, num_channel: int, channel_per_group: int = 16, emb_dim: int = 1024):\n",
    "        super().__init__()\n",
    "        assert num_channel % channel_per_group == 0, \"num_channel must be divisible by channel_per_group\"\n",
    "        num_group = num_channel // channel_per_group\n",
    "        self.embedding_proj = nn.Sequential(\n",
    "            nn.Linear(emb_dim, 2 * num_channel),\n",
    "            nn.ReLU()\n",
    "        )\n",
    "        self.gnorm = nn.GroupNorm(num_group, num_channel, affine=False)\n",
    "\n",
    "    def forward(self, tensor: torch.Tensor, embedding: torch.Tensor) -> torch.Tensor:\n",
    "        \"\"\"\n",
    "        Perform adanormalization on input tensor.\n",
    "\n",
    "        :param tensor: Input tensor to be normalized.\n",
    "        :param embedding: Embedding tensor containing time embedding and potentially class embedding.\n",
    "        :return: Normalized tensor.\n",
    "        \"\"\"\n",
    "        embedding = self.embedding_proj(embedding)\n",
    "        embedding = embedding.view(embedding.shape[0], embedding.shape[1], 1, 1)\n",
    "        scale, shift = torch.chunk(embedding, 2, dim=1)\n",
    "\n",
    "        tensor = self.gnorm(tensor)\n",
    "        # tensor = tensor * torch.sigmoid(scale) + shift\n",
    "        tensor = tensor * (1 + scale) + shift\n",
    "        return tensor\n",
    "\n",
    "class ResBlock(nn.Module):\n",
    "    def __init__(self, in_channel: int, out_channel: int, emb_dim: int = 1024, up: bool = False, down: bool = False, channel_per_group: int = 16):\n",
    "        super().__init__()\n",
    "\n",
    "        # Upsampling or downsampling only for skip connection\n",
    "        self.up = up\n",
    "        self.down = down\n",
    "\n",
    "        # Normalization layers\n",
    "        self.norm1 = AdaNorm(in_channel, emb_dim=emb_dim)\n",
    "        self.norm2 = AdaNorm(out_channel, emb_dim=emb_dim)\n",
    "\n",
    "        # Convolution layers\n",
    "        self.conv1 = nn.Conv2d(in_channel, out_channel, kernel_size=3, padding=1)\n",
    "        self.conv2 = zero_out(nn.Conv2d(out_channel, out_channel, kernel_size=3, padding=1))\n",
    "\n",
    "        # Skip connection\n",
    "        if in_channel != out_channel or up or down:\n",
    "            self.skip_connection = nn.Sequential(\n",
    "                nn.Conv2d(in_channel, out_channel, kernel_size=1),\n",
    "                nn.Upsample(scale_factor=2) if up else nn.Identity(),\n",
    "                nn.AvgPool2d(kernel_size=2) if down else nn.Identity(),\n",
    "            )\n",
    "        else:\n",
    "            self.skip_connection = nn.Identity()\n",
    "\n",
    "    def forward(self, tensor: torch.Tensor, embedding: torch.Tensor) -> torch.Tensor:\n",
    "        skip_tensor = self.skip_connection(tensor)\n",
    "\n",
    "        # Main path\n",
    "        tensor = self.norm1(tensor, embedding)\n",
    "        tensor = F.relu(tensor)\n",
    "        if self.up:\n",
    "            tensor = F.interpolate(tensor, scale_factor=2)\n",
    "        if self.down:\n",
    "            tensor = F.avg_pool2d(tensor, kernel_size=2)\n",
    "        tensor = self.conv1(tensor)\n",
    "        tensor = self.norm2(tensor, embedding)\n",
    "        tensor = F.relu(tensor)\n",
    "        tensor = self.conv2(tensor)\n",
    "\n",
    "        tensor += skip_tensor\n",
    "        return tensor\n",
    "\n",
    "\n",
    "class SelfAttentionBlock(nn.Module):\n",
    "    def __init__(self, embedding_dim: int, image_size: int, head_dim: int = 64, channel_per_group: int = 16):\n",
    "        super().__init__()\n",
    "        self.head_dim: int = head_dim\n",
    "        self.num_head: int = embedding_dim // head_dim\n",
    "        self.scale: float = head_dim ** -0.5\n",
    "        self.num_pixel = image_size ** 2\n",
    "        self.gnorm1 = nn.GroupNorm(embedding_dim // channel_per_group, embedding_dim)\n",
    "        self.gnorm2 = nn.GroupNorm(embedding_dim // channel_per_group, embedding_dim)\n",
    "\n",
    "        # QKV projection\n",
    "        self.qkv_proj = nn.Linear(embedding_dim, embedding_dim * 3)\n",
    "\n",
    "        # Output layer\n",
    "        self.output = zero_out(nn.Conv2d(embedding_dim, embedding_dim, kernel_size=1))\n",
    "\n",
    "        # Positional embedding for patches\n",
    "        self.positional_encoding = nn.Parameter(sinusoidal_positional_encoding_2d(image_size, image_size, embedding_dim))\n",
    "        self.positional_encoding.requires_grad_(False)\n",
    "\n",
    "        # Feed Forward Layer\n",
    "        self.ffn1 = nn.Conv2d(embedding_dim, embedding_dim * 8, kernel_size=1)\n",
    "        self.ffn2 = nn.Conv2d(embedding_dim * 8, embedding_dim, kernel_size=1)\n",
    "\n",
    "    def forward(self, tensor: torch.Tensor) -> torch.Tensor:\n",
    "        skip_tensor = tensor\n",
    "\n",
    "        tensor = self.gnorm1(tensor)\n",
    "\n",
    "        # Reshape for self attention\n",
    "        batch_size, channel, height, width = tensor.shape\n",
    "        tensor = tensor + self.positional_encoding\n",
    "        tensor = tensor.view(batch_size, channel, self.num_pixel)\n",
    "        tensor = tensor.permute(0, 2, 1)\n",
    "\n",
    "        tensor = self.qkv_proj(tensor)\n",
    "\n",
    "        query, key, value = torch.chunk(tensor, 3, dim=-1)\n",
    "        query = query.view(batch_size, self.num_pixel, self.num_head, self.head_dim)\n",
    "        key = key.view(batch_size, self.num_pixel, self.num_head, self.head_dim)\n",
    "        value = value.view(batch_size, self.num_pixel, self.num_head, self.head_dim)\n",
    "\n",
    "        query = query.transpose(1, 2)\n",
    "        key = key.transpose(1, 2)\n",
    "        value = value.transpose(1, 2)\n",
    "\n",
    "        # Self attention\n",
    "        attention_raw = torch.matmul(query, key.transpose(2, 3))\n",
    "        attention_scaled = attention_raw * self.scale\n",
    "        attention_score = torch.softmax(attention_scaled, dim=-1)\n",
    "        value = torch.matmul(attention_score, value)\n",
    "\n",
    "        # Reshape for self attention output\n",
    "        tensor = value.transpose(1, 2).contiguous()\n",
    "        tensor = tensor.view(batch_size, self.num_pixel, channel)\n",
    "        tensor = tensor.permute(0, 2, 1)\n",
    "        tensor = tensor.reshape(batch_size, channel, height, width)\n",
    "        tensor = self.output(tensor)\n",
    "\n",
    "        tensor = tensor + skip_tensor\n",
    "\n",
    "        # Feed Forward Layer\n",
    "        tensor = self.gnorm2(tensor)\n",
    "        tensor = self.ffn1(tensor)\n",
    "        tensor = F.relu(tensor)\n",
    "        tensor = self.ffn2(tensor)\n",
    "\n",
    "        return tensor\n",
    "\n",
    "class UNet(nn.Module):\n",
    "    def __init__(self, image_channel: int = 3, image_size: int = 32, channels: list[int] = [64, 128, 256, 512], attention_channels = [128, 256, 512], depth: int = 2, emb_dim: int = 1024, num_step: int = 1000, num_classes: int = 10, channel_per_group: int = 16, patch_size: int = 2, head_dim: int = 32):\n",
    "        super().__init__()\n",
    "        self.encoder = nn.ModuleList([nn.ModuleList([nn.Conv2d(image_channel, channels[0], 3, padding=1)])])\n",
    "        self.decoder = nn.ModuleList()\n",
    "        skip_channel = [channels[0]]\n",
    "        image_size = [image_size // (2**i) for i in range(len(channels))]\n",
    "\n",
    "        self.positional_encoding = nn.Embedding(num_step, emb_dim)\n",
    "        self.positional_encoding.weight.data.copy_(positional_embedding(num_step, emb_dim))\n",
    "        self.positional_encoding.weight.requires_grad = False\n",
    "\n",
    "        # Encoder\n",
    "        for i in range(len(channels)):\n",
    "            for _ in range(depth):\n",
    "                layer = nn.ModuleList()\n",
    "                layer.append(ResBlock(channels[i], channels[i], emb_dim = emb_dim, channel_per_group=channel_per_group))\n",
    "                if channels[i] in attention_channels:\n",
    "                    layer.append(SelfAttentionBlock(channels[i], image_size[i]))\n",
    "                self.encoder.append(layer)\n",
    "                skip_channel.append(channels[i])\n",
    "\n",
    "            # Down projection\n",
    "            if i != len(channels)-1:\n",
    "                layer = nn.ModuleList()\n",
    "                layer.append(ResBlock(channels[i], channels[i + 1], down=True, emb_dim = emb_dim, channel_per_group=channel_per_group))\n",
    "                self.encoder.append(layer)\n",
    "                skip_channel.append(channels[i+1])\n",
    "\n",
    "        # Bottleneck\n",
    "        self.bottle_neck = nn.ModuleList([\n",
    "            ResBlock(channels[-1], channels[-1], channel_per_group=channel_per_group),\n",
    "            SelfAttentionBlock(channels[-1], image_size[-1]),\n",
    "            ResBlock(channels[-1], channels[-1], channel_per_group=channel_per_group),\n",
    "        ])\n",
    "\n",
    "        # Decoder\n",
    "        for i in range(len(channels)-1, -1, -1):\n",
    "            for _ in range(depth):\n",
    "                layer = nn.ModuleList()\n",
    "                layer.append(ResBlock(channels[i] + skip_channel.pop(), channels[i], emb_dim = emb_dim))\n",
    "                if channels[i] in attention_channels:\n",
    "                    layer.append(SelfAttentionBlock(channels[i], image_size[i]))\n",
    "                self.decoder.append(layer)\n",
    "\n",
    "            # Up projection\n",
    "            if i != 0:\n",
    "                layer = nn.ModuleList()\n",
    "                layer.append(ResBlock(channels[i] + skip_channel.pop(), channels[i - 1], up=True, emb_dim = emb_dim))\n",
    "                self.decoder.append(layer)\n",
    "            else:\n",
    "                layer = nn.ModuleList()\n",
    "                layer.append(ResBlock(channels[i] + skip_channel.pop(), channels[0], emb_dim = emb_dim))\n",
    "                self.decoder.append(layer)\n",
    "\n",
    "        self.time_embedding_proj = nn.Sequential(\n",
    "            nn.Linear(emb_dim, emb_dim),\n",
    "            nn.ReLU()\n",
    "        )\n",
    "        self.class_embedding = nn.Embedding(num_classes, emb_dim)\n",
    "\n",
    "        # Output kernels to change back to image channel\n",
    "        self.out = nn.Sequential(\n",
    "            nn.GroupNorm(channels[0] // channel_per_group, channels[0], affine=False),\n",
    "            nn.SiLU(),\n",
    "            zero_out(nn.Conv2d(channels[0], image_channel, kernel_size = 1)),\n",
    "        )\n",
    "\n",
    "    def forward(self, tensor: torch.Tensor, time_step: torch.Tensor, label: torch.Tensor = None) -> torch.Tensor:\n",
    "        \"\"\"\n",
    "        Diffusion model.\n",
    "\n",
    "        :param tensor: Input tensor.\n",
    "        :param time_step: Time step tensor.\n",
    "        :param label: Label tensor.\n",
    "        :return: Predicted noise.\n",
    "        \"\"\"\n",
    "        embedding = self.positional_encoding(time_step)\n",
    "        embedding = self.time_embedding_proj(embedding)\n",
    "\n",
    "        if label != None:\n",
    "            class_embedding = self.class_embedding(label)\n",
    "            embedding = embedding + class_embedding\n",
    "\n",
    "        skip_connection = []\n",
    "\n",
    "        # Encoder\n",
    "        for layer in self.encoder:\n",
    "            for module in layer:\n",
    "                if(isinstance(module, ResBlock)):\n",
    "                    tensor = module(tensor, embedding)\n",
    "                else:\n",
    "                    tensor = module(tensor)\n",
    "\n",
    "            skip_connection.append(tensor)\n",
    "\n",
    "        # Bottleneck\n",
    "        for module in self.bottle_neck:\n",
    "            if(isinstance(module, ResBlock)):\n",
    "                tensor = module(tensor, embedding)\n",
    "            else:\n",
    "                tensor = module(tensor)\n",
    "\n",
    "        # Decoder\n",
    "        for layer in self.decoder:\n",
    "            tensor = torch.concatenate((tensor, skip_connection.pop()), dim = 1)\n",
    "            for module in layer:\n",
    "                if(isinstance(module, ResBlock)):\n",
    "                    tensor = module(tensor, embedding)\n",
    "                else:\n",
    "                    tensor = module(tensor)\n",
    "\n",
    "        tensor = self.out(tensor)\n",
    "\n",
    "        return tensor"
   ]
  },
  {
   "cell_type": "code",
   "execution_count": 18,
   "metadata": {
    "execution": {
     "iopub.execute_input": "2025-02-07T15:23:37.732592Z",
     "iopub.status.busy": "2025-02-07T15:23:37.732241Z",
     "iopub.status.idle": "2025-02-07T15:23:37.740279Z",
     "shell.execute_reply": "2025-02-07T15:23:37.739323Z",
     "shell.execute_reply.started": "2025-02-07T15:23:37.732563Z"
    },
    "trusted": true
   },
   "outputs": [],
   "source": [
    "# Constants used for the diffusion model\n",
    "beta = torch.linspace(config[\"beta_start\"], config[\"beta_end\"], config[\"steps\"]).to(device)\n",
    "sqrt_beta = torch.sqrt(beta).view(-1, 1, 1, 1)\n",
    "alpha = 1 - beta\n",
    "alphas_cumprod = torch.cumprod(alpha, axis=0)\n",
    "sqrt_alphas_cumprod = torch.sqrt(alphas_cumprod).view(-1, 1, 1, 1)\n",
    "one_minus_alphas_cumprod = 1 - alphas_cumprod\n",
    "sqrt_one_minus_alphas_cumprod = torch.sqrt(one_minus_alphas_cumprod).view(-1, 1, 1, 1)\n",
    "one_over_sqrt_alpha = 1 / torch.sqrt(alpha).view(-1, 1, 1, 1)\n",
    "one_minus_alpha = (1 - alpha).view(-1, 1, 1, 1)\n",
    "\n",
    "# Define the transformation\n",
    "transform = transforms.Compose([\n",
    "    # transforms.Resize(125),\n",
    "    # transforms.RandomResizedCrop(config[\"image_size\"], scale=(0.8, 1.0)),\n",
    "    # transforms.RandomHorizontalFlip(),\n",
    "    transforms.ToTensor(),\n",
    "    # transforms.Normalize((0.5, 0.5, 0.5), (0.5, 0.5, 0.5))\n",
    "])"
   ]
  },
  {
   "cell_type": "code",
   "execution_count": 19,
   "metadata": {
    "execution": {
     "iopub.execute_input": "2025-02-07T15:23:37.955838Z",
     "iopub.status.busy": "2025-02-07T15:23:37.955526Z",
     "iopub.status.idle": "2025-02-07T15:23:39.757859Z",
     "shell.execute_reply": "2025-02-07T15:23:39.757126Z",
     "shell.execute_reply.started": "2025-02-07T15:23:37.955812Z"
    },
    "trusted": true
   },
   "outputs": [
    {
     "name": "stdout",
     "output_type": "stream",
     "text": [
      "Files already downloaded and verified\n",
      "Files already downloaded and verified\n"
     ]
    }
   ],
   "source": [
    "# Load the training set\n",
    "trainset = datasets.CIFAR10(root='./data', train=True, download=True, transform=transform)\n",
    "\n",
    "# Load the test set\n",
    "testset = datasets.CIFAR10(root='./data', train=False, download=True, transform=transform)\n",
    "\n",
    "# Create a DataLoader for the combined dataset\n",
    "train_dataloader = torch.utils.data.DataLoader(trainset, batch_size=config[\"batch_size\"], shuffle=True)\n",
    "valid_dataloader = torch.utils.data.DataLoader(testset, batch_size=config[\"batch_size\"], shuffle=True)\n"
   ]
  },
  {
   "cell_type": "code",
   "execution_count": 20,
   "metadata": {
    "execution": {
     "iopub.execute_input": "2025-02-07T15:23:39.759401Z",
     "iopub.status.busy": "2025-02-07T15:23:39.759054Z",
     "iopub.status.idle": "2025-02-07T15:23:57.277567Z",
     "shell.execute_reply": "2025-02-07T15:23:57.276692Z",
     "shell.execute_reply.started": "2025-02-07T15:23:39.759366Z"
    },
    "trusted": true
   },
   "outputs": [
    {
     "name": "stdout",
     "output_type": "stream",
     "text": [
      "This model has 118110787 parameters.\n"
     ]
    }
   ],
   "source": [
    "# Instantiate the model\n",
    "unet = UNet(num_classes=config[\"num_class\"]).to(device)\n",
    "print(\"This model has\", sum(p.numel() for p in unet.parameters()), \"parameters.\")"
   ]
  },
  {
   "cell_type": "code",
   "execution_count": 21,
   "metadata": {
    "execution": {
     "iopub.execute_input": "2025-02-07T15:23:57.279219Z",
     "iopub.status.busy": "2025-02-07T15:23:57.278929Z",
     "iopub.status.idle": "2025-02-07T15:23:57.286013Z",
     "shell.execute_reply": "2025-02-07T15:23:57.285174Z",
     "shell.execute_reply.started": "2025-02-07T15:23:57.279194Z"
    },
    "trusted": true
   },
   "outputs": [],
   "source": [
    "scaler = amp.GradScaler()\n",
    "loss_train = []\n",
    "loss_valid = []\n",
    "\n",
    "# Set up optimizer and loss\n",
    "optimizer = opt.AdamW(unet.parameters(), lr=config[\"lr\"], weight_decay=config[\"weight_decay\"])\n",
    "criterion = nn.MSELoss()\n",
    "scheduler = torch.optim.lr_scheduler.CosineAnnealingLR(optimizer, T_max=config[\"epochs\"] * len(train_dataloader), eta_min=1e-5)"
   ]
  },
  {
   "cell_type": "code",
   "execution_count": 22,
   "metadata": {
    "execution": {
     "iopub.execute_input": "2025-02-07T15:23:57.287160Z",
     "iopub.status.busy": "2025-02-07T15:23:57.286892Z",
     "iopub.status.idle": "2025-02-07T15:23:57.309880Z",
     "shell.execute_reply": "2025-02-07T15:23:57.308837Z",
     "shell.execute_reply.started": "2025-02-07T15:23:57.287137Z"
    },
    "trusted": true
   },
   "outputs": [],
   "source": [
    "def train_one_epoch(unet, train_dataloader, optimizer, scaler, criterion, scheduler, config, device):\n",
    "    \"\"\"Train the model for one epoch.\"\"\"\n",
    "    train_loss_list = []\n",
    "    progress_bar = tqdm(train_dataloader, desc=\"Training\", leave=False)\n",
    "\n",
    "    for images, labels in progress_bar:\n",
    "        # Zero out gradients\n",
    "        optimizer.zero_grad()\n",
    "\n",
    "        # Preparing for forward pass\n",
    "        images = images.to(device)\n",
    "        labels = labels.to(device)\n",
    "        time_step = torch.randint(1, config[\"steps\"], size=(images.shape[0],)).to(device)\n",
    "        x_t, noise = forward_pass(images, time_step)\n",
    "\n",
    "        # Classifier free guidance\n",
    "        if random.random() < 0.1:\n",
    "            labels = None\n",
    "\n",
    "        # Forward pass\n",
    "        with torch.cuda.amp.autocast():\n",
    "            predicted_noise = unet(x_t, time_step, labels)\n",
    "            loss = criterion(predicted_noise, noise)\n",
    "\n",
    "        # Back propagation\n",
    "        scaler.scale(loss).backward()\n",
    "        torch.nn.utils.clip_grad_norm_(unet.parameters(), max_norm=1.0)\n",
    "        scaler.step(optimizer)\n",
    "        scaler.update()\n",
    "\n",
    "        # Record loss\n",
    "        train_loss_list.append(loss.item())\n",
    "\n",
    "        # Update the learning rate scheduler\n",
    "        scheduler.step()\n",
    "\n",
    "        # Update tqdm description\n",
    "        progress_bar.set_postfix({\n",
    "            \"Train Loss\": f\"{sum(train_loss_list) / len(train_loss_list):.4f}\",\n",
    "            \"LR\": f\"{optimizer.param_groups[0]['lr']:.6f}\"\n",
    "        })\n",
    "\n",
    "    epoch_loss = sum(train_loss_list) / len(train_loss_list)\n",
    "    print(f\"End of epoch training loss: {epoch_loss:.4f}\")\n",
    "    return epoch_loss\n",
    "\n",
    "def validate_one_epoch(unet, valid_dataloader, criterion, config, device):\n",
    "    \"\"\"Validate the model for one epoch and return validation loss and generated class samples.\"\"\"\n",
    "    valid_loss_list = []\n",
    "    generated_samples = {label: None for label in range(config[\"num_class\"])}\n",
    "\n",
    "    with torch.no_grad():\n",
    "        for images, labels in tqdm(valid_dataloader, desc=\"Validation\", leave=False):\n",
    "            images = images.to(device)\n",
    "            labels = labels.to(device)\n",
    "            time_step = torch.randint(1, config[\"steps\"], size=(images.shape[0],)).to(device)\n",
    "            x_t, noise = forward_pass(images, time_step)\n",
    "\n",
    "            with torch.cuda.amp.autocast():\n",
    "                predicted_noise = unet(x_t, time_step, labels)\n",
    "                loss = criterion(predicted_noise, noise)\n",
    "\n",
    "            valid_loss_list.append(loss.item())\n",
    "\n",
    "            # Generate one image per class for visualization\n",
    "            for img, lbl in zip(x_t, labels):\n",
    "                lbl = lbl.item()\n",
    "                if generated_samples[lbl] is None:\n",
    "                    generated_samples[lbl] = img.cpu()\n",
    "                    if all(sample is not None for sample in generated_samples.values()):\n",
    "                        break\n",
    "\n",
    "    epoch_loss = sum(valid_loss_list) / len(valid_loss_list)\n",
    "    print(f\"End of epoch validation loss: {epoch_loss:.4f}\")\n",
    "    return epoch_loss, generated_samples\n",
    "\n",
    "def plot_class_samples(class_samples, class_labels):\n",
    "    \"\"\"Plot one generated sample from each class.\"\"\"\n",
    "    fig, axes = plt.subplots(1, 10, figsize=(15, 3))\n",
    "    for i, ax in enumerate(axes):\n",
    "        sample = class_samples[i]\n",
    "        if sample is not None:\n",
    "            sample = (sample.permute(1, 2, 0) * 0.5 + 0.5).clamp(0, 1).numpy()\n",
    "            ax.imshow(sample)\n",
    "        ax.axis(\"off\")\n",
    "        ax.set_title(class_labels[i])\n",
    "    plt.show()\n",
    "\n",
    "def plot_loss_curve(loss_train, loss_valid):\n",
    "    \"\"\"Plot training and validation loss.\"\"\"\n",
    "    plt.figure(figsize=(10, 5))\n",
    "    plt.plot(loss_train, label=\"Train Loss\")\n",
    "    plt.plot(loss_valid, label=\"Validation Loss\")\n",
    "    plt.xlabel(\"Epochs\")\n",
    "    plt.ylabel(\"Loss\")\n",
    "    plt.title(\"Training and Validation Loss\")\n",
    "    plt.legend()\n",
    "    plt.grid()\n",
    "    plt.show()\n",
    "\n",
    "def train_and_validate(unet, train_dataloader, valid_dataloader, optimizer, scaler, criterion, scheduler, config, device, load_last_checkpoint=False):\n",
    "    \"\"\"Train and validate the model across multiple epochs.\"\"\"\n",
    "    class_labels = [\n",
    "        \"Airplane\", \"Automobile\", \"Bird\", \"Cat\", \"Deer\",\n",
    "        \"Dog\", \"Frog\", \"Horse\", \"Ship\", \"Truck\"\n",
    "    ]\n",
    "    loss_train = []\n",
    "    loss_valid = []\n",
    "\n",
    "    best_valid_loss = float(\"inf\")\n",
    "    patience = config.get(\"patience\", 10)\n",
    "    patience_counter = 0\n",
    "\n",
    "    # Load checkpoint if specified\n",
    "    start_epoch = 1\n",
    "    if load_last_checkpoint:\n",
    "        checkpoint_path = config.get(\"checkpoint_path\", \"checkpoint.pth\")\n",
    "        try:\n",
    "            checkpoint = torch.load(checkpoint_path, map_location=device)\n",
    "            unet.load_state_dict(checkpoint[\"model_state\"])\n",
    "            optimizer.load_state_dict(checkpoint[\"optimizer_state\"])\n",
    "            scaler.load_state_dict(checkpoint[\"scaler_state\"])\n",
    "            scheduler.load_state_dict(checkpoint[\"scheduler_state\"])\n",
    "            loss_train = checkpoint.get(\"loss_train\", [])\n",
    "            loss_valid = checkpoint.get(\"loss_valid\", [])\n",
    "            best_valid_loss = checkpoint.get(\"best_valid_loss\", float(\"inf\"))\n",
    "            start_epoch = len(loss_train) + 1\n",
    "            print(f\"Checkpoint loaded from {checkpoint_path}. Resuming from epoch {start_epoch}.\")\n",
    "        except FileNotFoundError:\n",
    "            print(f\"Checkpoint not found at {checkpoint_path}, starting from scratch.\")\n",
    "\n",
    "    for epoch in range(start_epoch, config[\"epochs\"] + 1):\n",
    "        print(f\"Epoch {epoch}/{config['epochs']}\")\n",
    "    \n",
    "        # Train\n",
    "        train_loss = train_one_epoch(unet, train_dataloader, optimizer, scaler, criterion, scheduler, config, device)\n",
    "        loss_train.append(train_loss)\n",
    "    \n",
    "        # Initialize valid_loss\n",
    "        valid_loss = None\n",
    "    \n",
    "        if epoch == 1 or epoch % 5 == 0 or epoch == config[\"epochs\"]:\n",
    "            # Validate\n",
    "            valid_loss, generated_samples = validate_one_epoch(unet, valid_dataloader, criterion, config, device)\n",
    "            loss_valid.append(valid_loss)\n",
    "    \n",
    "            # Plot generated class samples\n",
    "            label = torch.tensor([0, 1, 2, 3, 4, 5, 6, 7, 8, 9]).cuda(config['device_id'])\n",
    "            sampling(unet, label, epoch=epoch)\n",
    "    \n",
    "            # Save model if validation loss improves\n",
    "            if valid_loss < best_valid_loss:\n",
    "                best_valid_loss = valid_loss\n",
    "                torch.save(unet.state_dict(), \"best_unet_model.pth\")\n",
    "                print(f\"Best model saved at epoch {epoch} with validation loss {valid_loss:.4f}\")\n",
    "                patience_counter = 0\n",
    "            else:\n",
    "                patience_counter += 1\n",
    "    \n",
    "            # Early stopping\n",
    "            if patience_counter >= patience:\n",
    "                print(\"Early stopping triggered.\")\n",
    "                break\n",
    "    \n",
    "        # Save checkpoint\n",
    "        checkpoint = {\n",
    "            \"model_state\": unet.state_dict(),\n",
    "            \"optimizer_state\": optimizer.state_dict(),\n",
    "            \"scaler_state\": scaler.state_dict(),\n",
    "            \"scheduler_state\": scheduler.state_dict(),\n",
    "            \"loss_train\": loss_train,\n",
    "            \"loss_valid\": loss_valid,\n",
    "            \"best_valid_loss\": best_valid_loss\n",
    "        }\n",
    "        checkpoint_path = config.get(\"checkpoint_path\", \"checkpoint.pth\")\n",
    "        torch.save(checkpoint, checkpoint_path)\n",
    "        print(f\"Checkpoint saved at {checkpoint_path}.\")\n",
    "    \n",
    "        # Log epoch losses and learning rate\n",
    "        print(f\"Epoch {epoch} Summary: Train Loss = {train_loss:.4f}, Validation Loss = {valid_loss if valid_loss is not None else 'N/A'}, LR = {optimizer.param_groups[0]['lr']:.6f}\")\n",
    "    \n",
    "    # Plot loss curves after training\n",
    "    plot_loss_curve(loss_train, loss_valid)\n"
   ]
  },
  {
   "cell_type": "code",
   "execution_count": 11,
   "metadata": {
    "execution": {
     "iopub.execute_input": "2025-02-07T14:37:58.714037Z",
     "iopub.status.busy": "2025-02-07T14:37:58.713693Z",
     "iopub.status.idle": "2025-02-07T14:42:50.531292Z",
     "shell.execute_reply": "2025-02-07T14:42:50.530486Z",
     "shell.execute_reply.started": "2025-02-07T14:37:58.714007Z"
    },
    "trusted": true
   },
   "outputs": [
    {
     "name": "stdout",
     "output_type": "stream",
     "text": [
      "Epoch 1/1\n"
     ]
    },
    {
     "data": {
      "application/vnd.jupyter.widget-view+json": {
       "model_id": "",
       "version_major": 2,
       "version_minor": 0
      },
      "text/plain": [
       "Training:   0%|          | 0/250 [00:00<?, ?it/s]"
      ]
     },
     "metadata": {},
     "output_type": "display_data"
    },
    {
     "name": "stdout",
     "output_type": "stream",
     "text": [
      "End of epoch training loss: 0.0344\n"
     ]
    },
    {
     "data": {
      "application/vnd.jupyter.widget-view+json": {
       "model_id": "",
       "version_major": 2,
       "version_minor": 0
      },
      "text/plain": [
       "Validation:   0%|          | 0/50 [00:00<?, ?it/s]"
      ]
     },
     "metadata": {},
     "output_type": "display_data"
    },
    {
     "name": "stdout",
     "output_type": "stream",
     "text": [
      "End of epoch validation loss: 0.0279\n"
     ]
    },
    {
     "data": {
      "application/vnd.jupyter.widget-view+json": {
       "model_id": "8d651162eee34625beee3dfec60f0340",
       "version_major": 2,
       "version_minor": 0
      },
      "text/plain": [
       "  0%|          | 0/1000 [00:00<?, ?it/s]"
      ]
     },
     "metadata": {},
     "output_type": "display_data"
    },
    {
     "name": "stdout",
     "output_type": "stream",
     "text": [
      "Saved generated images to generated_images/generated_images_epoch_1.png\n",
      "Best model saved at epoch 1 with validation loss 0.0279\n",
      "Checkpoint saved at checkpoint.pth.\n",
      "Epoch 1 Summary: Train Loss = 0.0344, Validation Loss = 0.02788466326892376, LR = 0.000280\n"
     ]
    },
    {
     "data": {
      "image/png": "[encoded data removed]",
      "text/plain": [
       "<Figure size 1000x500 with 1 Axes>"
      ]
     },
     "metadata": {},
     "output_type": "display_data"
    }
   ],
   "source": [
    "config['epochs'] = 1\n",
    "train_and_validate(unet, train_dataloader, valid_dataloader, optimizer, scaler, criterion, scheduler, config, device, load_last_checkpoint=False)"
   ]
  },
  {
   "cell_type": "code",
   "execution_count": 11,
   "metadata": {
    "execution": {
     "iopub.execute_input": "2025-01-22T18:12:36.053251Z",
     "iopub.status.busy": "2025-01-22T18:12:36.052889Z",
     "iopub.status.idle": "2025-01-22T18:52:26.694796Z",
     "shell.execute_reply": "2025-01-22T18:52:26.693798Z",
     "shell.execute_reply.started": "2025-01-22T18:12:36.053217Z"
    },
    "trusted": true
   },
   "outputs": [
    {
     "name": "stdout",
     "output_type": "stream",
     "text": [
      "Checkpoint loaded from checkpoint.pth. Resuming from epoch 21.\n",
      "Epoch 21/30\n"
     ]
    },
    {
     "data": {
      "application/vnd.jupyter.widget-view+json": {
       "model_id": "",
       "version_major": 2,
       "version_minor": 0
      },
      "text/plain": [
       "Training:   0%|          | 0/250 [00:00<?, ?it/s]"
      ]
     },
     "metadata": {},
     "output_type": "display_data"
    },
    {
     "name": "stdout",
     "output_type": "stream",
     "text": [
      "End of epoch training loss: 0.0194\n",
      "Checkpoint saved at checkpoint.pth.\n",
      "Epoch 21 Summary: Train Loss = 0.0194, Validation Loss = N/A, LR = 0.000293\n",
      "Epoch 22/30\n"
     ]
    },
    {
     "data": {
      "application/vnd.jupyter.widget-view+json": {
       "model_id": "",
       "version_major": 2,
       "version_minor": 0
      },
      "text/plain": [
       "Training:   0%|          | 0/250 [00:00<?, ?it/s]"
      ]
     },
     "metadata": {},
     "output_type": "display_data"
    },
    {
     "name": "stdout",
     "output_type": "stream",
     "text": [
      "End of epoch training loss: 0.0192\n",
      "Checkpoint saved at checkpoint.pth.\n",
      "Epoch 22 Summary: Train Loss = 0.0192, Validation Loss = N/A, LR = 0.000272\n",
      "Epoch 23/30\n"
     ]
    },
    {
     "data": {
      "application/vnd.jupyter.widget-view+json": {
       "model_id": "",
       "version_major": 2,
       "version_minor": 0
      },
      "text/plain": [
       "Training:   0%|          | 0/250 [00:00<?, ?it/s]"
      ]
     },
     "metadata": {},
     "output_type": "display_data"
    },
    {
     "name": "stdout",
     "output_type": "stream",
     "text": [
      "End of epoch training loss: 0.0192\n",
      "Checkpoint saved at checkpoint.pth.\n",
      "Epoch 23 Summary: Train Loss = 0.0192, Validation Loss = N/A, LR = 0.000240\n",
      "Epoch 24/30\n"
     ]
    },
    {
     "data": {
      "application/vnd.jupyter.widget-view+json": {
       "model_id": "",
       "version_major": 2,
       "version_minor": 0
      },
      "text/plain": [
       "Training:   0%|          | 0/250 [00:00<?, ?it/s]"
      ]
     },
     "metadata": {},
     "output_type": "display_data"
    },
    {
     "name": "stdout",
     "output_type": "stream",
     "text": [
      "End of epoch training loss: 0.0189\n",
      "Checkpoint saved at checkpoint.pth.\n",
      "Epoch 24 Summary: Train Loss = 0.0189, Validation Loss = N/A, LR = 0.000200\n",
      "Epoch 25/30\n"
     ]
    },
    {
     "data": {
      "application/vnd.jupyter.widget-view+json": {
       "model_id": "",
       "version_major": 2,
       "version_minor": 0
      },
      "text/plain": [
       "Training:   0%|          | 0/250 [00:00<?, ?it/s]"
      ]
     },
     "metadata": {},
     "output_type": "display_data"
    },
    {
     "name": "stdout",
     "output_type": "stream",
     "text": [
      "End of epoch training loss: 0.0185\n"
     ]
    },
    {
     "data": {
      "application/vnd.jupyter.widget-view+json": {
       "model_id": "",
       "version_major": 2,
       "version_minor": 0
      },
      "text/plain": [
       "Validation:   0%|          | 0/50 [00:00<?, ?it/s]"
      ]
     },
     "metadata": {},
     "output_type": "display_data"
    },
    {
     "name": "stdout",
     "output_type": "stream",
     "text": [
      "End of epoch validation loss: 0.0188\n"
     ]
    },
    {
     "data": {
      "application/vnd.jupyter.widget-view+json": {
       "model_id": "d3fbd93925464815bafc3ef5112b8ecb",
       "version_major": 2,
       "version_minor": 0
      },
      "text/plain": [
       "  0%|          | 0/1000 [00:00<?, ?it/s]"
      ]
     },
     "metadata": {},
     "output_type": "display_data"
    },
    {
     "name": "stdout",
     "output_type": "stream",
     "text": [
      "Saved generated images to generated_images/generated_images_epoch_25.png\n",
      "Best model saved at epoch 25 with validation loss 0.0188\n",
      "Checkpoint saved at checkpoint.pth.\n",
      "Epoch 25 Summary: Train Loss = 0.0185, Validation Loss = 0.01876953735947609, LR = 0.000155\n",
      "Epoch 26/30\n"
     ]
    },
    {
     "data": {
      "application/vnd.jupyter.widget-view+json": {
       "model_id": "",
       "version_major": 2,
       "version_minor": 0
      },
      "text/plain": [
       "Training:   0%|          | 0/250 [00:00<?, ?it/s]"
      ]
     },
     "metadata": {},
     "output_type": "display_data"
    },
    {
     "name": "stdout",
     "output_type": "stream",
     "text": [
      "End of epoch training loss: 0.0186\n",
      "Checkpoint saved at checkpoint.pth.\n",
      "Epoch 26 Summary: Train Loss = 0.0186, Validation Loss = N/A, LR = 0.000110\n",
      "Epoch 27/30\n"
     ]
    },
    {
     "data": {
      "application/vnd.jupyter.widget-view+json": {
       "model_id": "",
       "version_major": 2,
       "version_minor": 0
      },
      "text/plain": [
       "Training:   0%|          | 0/250 [00:00<?, ?it/s]"
      ]
     },
     "metadata": {},
     "output_type": "display_data"
    },
    {
     "name": "stdout",
     "output_type": "stream",
     "text": [
      "End of epoch training loss: 0.0186\n",
      "Checkpoint saved at checkpoint.pth.\n",
      "Epoch 27 Summary: Train Loss = 0.0186, Validation Loss = N/A, LR = 0.000070\n",
      "Epoch 28/30\n"
     ]
    },
    {
     "data": {
      "application/vnd.jupyter.widget-view+json": {
       "model_id": "",
       "version_major": 2,
       "version_minor": 0
      },
      "text/plain": [
       "Training:   0%|          | 0/250 [00:00<?, ?it/s]"
      ]
     },
     "metadata": {},
     "output_type": "display_data"
    },
    {
     "name": "stdout",
     "output_type": "stream",
     "text": [
      "End of epoch training loss: 0.0186\n",
      "Checkpoint saved at checkpoint.pth.\n",
      "Epoch 28 Summary: Train Loss = 0.0186, Validation Loss = N/A, LR = 0.000038\n",
      "Epoch 29/30\n"
     ]
    },
    {
     "data": {
      "application/vnd.jupyter.widget-view+json": {
       "model_id": "",
       "version_major": 2,
       "version_minor": 0
      },
      "text/plain": [
       "Training:   0%|          | 0/250 [00:00<?, ?it/s]"
      ]
     },
     "metadata": {},
     "output_type": "display_data"
    },
    {
     "name": "stdout",
     "output_type": "stream",
     "text": [
      "End of epoch training loss: 0.0187\n",
      "Checkpoint saved at checkpoint.pth.\n",
      "Epoch 29 Summary: Train Loss = 0.0187, Validation Loss = N/A, LR = 0.000017\n",
      "Epoch 30/30\n"
     ]
    },
    {
     "data": {
      "application/vnd.jupyter.widget-view+json": {
       "model_id": "",
       "version_major": 2,
       "version_minor": 0
      },
      "text/plain": [
       "Training:   0%|          | 0/250 [00:00<?, ?it/s]"
      ]
     },
     "metadata": {},
     "output_type": "display_data"
    },
    {
     "name": "stdout",
     "output_type": "stream",
     "text": [
      "End of epoch training loss: 0.0184\n"
     ]
    },
    {
     "data": {
      "application/vnd.jupyter.widget-view+json": {
       "model_id": "",
       "version_major": 2,
       "version_minor": 0
      },
      "text/plain": [
       "Validation:   0%|          | 0/50 [00:00<?, ?it/s]"
      ]
     },
     "metadata": {},
     "output_type": "display_data"
    },
    {
     "name": "stdout",
     "output_type": "stream",
     "text": [
      "End of epoch validation loss: 0.0191\n"
     ]
    },
    {
     "data": {
      "application/vnd.jupyter.widget-view+json": {
       "model_id": "5799bbdcc4b1474298e52947a0de6d32",
       "version_major": 2,
       "version_minor": 0
      },
      "text/plain": [
       "  0%|          | 0/1000 [00:00<?, ?it/s]"
      ]
     },
     "metadata": {},
     "output_type": "display_data"
    },
    {
     "name": "stdout",
     "output_type": "stream",
     "text": [
      "Saved generated images to generated_images/generated_images_epoch_30.png\n",
      "Checkpoint saved at checkpoint.pth.\n",
      "Epoch 30 Summary: Train Loss = 0.0184, Validation Loss = 0.019119268395006658, LR = 0.000010\n"
     ]
    },
    {
     "data": {
      "image/png": "[encoded data removed]",
      "text/plain": [
       "<Figure size 1000x500 with 1 Axes>"
      ]
     },
     "metadata": {},
     "output_type": "display_data"
    }
   ],
   "source": [
    "config['epochs'] = 30\n",
    "train_and_validate(unet, train_dataloader, valid_dataloader, optimizer, scaler, criterion, scheduler, config, device, load_last_checkpoint=True)"
   ]
  },
  {
   "cell_type": "code",
   "execution_count": 15,
   "metadata": {
    "execution": {
     "iopub.execute_input": "2025-01-22T19:19:31.546513Z",
     "iopub.status.busy": "2025-01-22T19:19:31.546139Z",
     "iopub.status.idle": "2025-01-22T19:39:28.155435Z",
     "shell.execute_reply": "2025-01-22T19:39:28.154611Z",
     "shell.execute_reply.started": "2025-01-22T19:19:31.546474Z"
    },
    "trusted": true
   },
   "outputs": [
    {
     "name": "stdout",
     "output_type": "stream",
     "text": [
      "Checkpoint loaded from checkpoint.pth. Resuming from epoch 31.\n",
      "Epoch 31/35\n"
     ]
    },
    {
     "data": {
      "application/vnd.jupyter.widget-view+json": {
       "model_id": "",
       "version_major": 2,
       "version_minor": 0
      },
      "text/plain": [
       "Training:   0%|          | 0/250 [00:00<?, ?it/s]"
      ]
     },
     "metadata": {},
     "output_type": "display_data"
    },
    {
     "name": "stdout",
     "output_type": "stream",
     "text": [
      "End of epoch training loss: 0.0183\n",
      "Checkpoint saved at checkpoint.pth.\n",
      "Epoch 31 Summary: Train Loss = 0.0183, Validation Loss = N/A, LR = 0.000010\n",
      "Epoch 32/35\n"
     ]
    },
    {
     "data": {
      "application/vnd.jupyter.widget-view+json": {
       "model_id": "",
       "version_major": 2,
       "version_minor": 0
      },
      "text/plain": [
       "Training:   0%|          | 0/250 [00:00<?, ?it/s]"
      ]
     },
     "metadata": {},
     "output_type": "display_data"
    },
    {
     "name": "stdout",
     "output_type": "stream",
     "text": [
      "End of epoch training loss: 0.0185\n",
      "Checkpoint saved at checkpoint.pth.\n",
      "Epoch 32 Summary: Train Loss = 0.0185, Validation Loss = N/A, LR = 0.000010\n",
      "Epoch 33/35\n"
     ]
    },
    {
     "data": {
      "application/vnd.jupyter.widget-view+json": {
       "model_id": "",
       "version_major": 2,
       "version_minor": 0
      },
      "text/plain": [
       "Training:   0%|          | 0/250 [00:00<?, ?it/s]"
      ]
     },
     "metadata": {},
     "output_type": "display_data"
    },
    {
     "name": "stdout",
     "output_type": "stream",
     "text": [
      "End of epoch training loss: 0.0182\n",
      "Checkpoint saved at checkpoint.pth.\n",
      "Epoch 33 Summary: Train Loss = 0.0182, Validation Loss = N/A, LR = 0.000010\n",
      "Epoch 34/35\n"
     ]
    },
    {
     "data": {
      "application/vnd.jupyter.widget-view+json": {
       "model_id": "",
       "version_major": 2,
       "version_minor": 0
      },
      "text/plain": [
       "Training:   0%|          | 0/250 [00:00<?, ?it/s]"
      ]
     },
     "metadata": {},
     "output_type": "display_data"
    },
    {
     "name": "stdout",
     "output_type": "stream",
     "text": [
      "End of epoch training loss: 0.0181\n",
      "Checkpoint saved at checkpoint.pth.\n",
      "Epoch 34 Summary: Train Loss = 0.0181, Validation Loss = N/A, LR = 0.000010\n",
      "Epoch 35/35\n"
     ]
    },
    {
     "data": {
      "application/vnd.jupyter.widget-view+json": {
       "model_id": "",
       "version_major": 2,
       "version_minor": 0
      },
      "text/plain": [
       "Training:   0%|          | 0/250 [00:00<?, ?it/s]"
      ]
     },
     "metadata": {},
     "output_type": "display_data"
    },
    {
     "name": "stdout",
     "output_type": "stream",
     "text": [
      "End of epoch training loss: 0.0179\n"
     ]
    },
    {
     "data": {
      "application/vnd.jupyter.widget-view+json": {
       "model_id": "",
       "version_major": 2,
       "version_minor": 0
      },
      "text/plain": [
       "Validation:   0%|          | 0/50 [00:00<?, ?it/s]"
      ]
     },
     "metadata": {},
     "output_type": "display_data"
    },
    {
     "name": "stdout",
     "output_type": "stream",
     "text": [
      "End of epoch validation loss: 0.0180\n"
     ]
    },
    {
     "data": {
      "application/vnd.jupyter.widget-view+json": {
       "model_id": "80f1a93eec324cf1a6583bd9597d5994",
       "version_major": 2,
       "version_minor": 0
      },
      "text/plain": [
       "  0%|          | 0/1000 [00:00<?, ?it/s]"
      ]
     },
     "metadata": {},
     "output_type": "display_data"
    },
    {
     "name": "stdout",
     "output_type": "stream",
     "text": [
      "Saved generated images to generated_images/generated_images_epoch_35.png\n",
      "Best model saved at epoch 35 with validation loss 0.0180\n",
      "Checkpoint saved at checkpoint.pth.\n",
      "Epoch 35 Summary: Train Loss = 0.0179, Validation Loss = 0.018020733948796986, LR = 0.000010\n"
     ]
    },
    {
     "data": {
      "image/png": "[encoded data removed]",
      "text/plain": [
       "<Figure size 1000x500 with 1 Axes>"
      ]
     },
     "metadata": {},
     "output_type": "display_data"
    }
   ],
   "source": [
    "config['epochs'] = 35\n",
    "train_and_validate(unet, train_dataloader, valid_dataloader, optimizer, scaler, criterion, scheduler, config, device, load_last_checkpoint=True)"
   ]
  },
  {
   "cell_type": "code",
   "execution_count": 24,
   "metadata": {
    "execution": {
     "iopub.execute_input": "2025-01-22T20:58:00.475468Z",
     "iopub.status.busy": "2025-01-22T20:58:00.475072Z",
     "iopub.status.idle": "2025-01-22T21:57:11.487901Z",
     "shell.execute_reply": "2025-01-22T21:57:11.486981Z",
     "shell.execute_reply.started": "2025-01-22T20:58:00.475435Z"
    },
    "trusted": true
   },
   "outputs": [
    {
     "name": "stdout",
     "output_type": "stream",
     "text": [
      "Checkpoint loaded from checkpoint.pth. Resuming from epoch 36.\n",
      "Epoch 36/50\n"
     ]
    },
    {
     "data": {
      "application/vnd.jupyter.widget-view+json": {
       "model_id": "",
       "version_major": 2,
       "version_minor": 0
      },
      "text/plain": [
       "Training:   0%|          | 0/250 [00:00<?, ?it/s]"
      ]
     },
     "metadata": {},
     "output_type": "display_data"
    },
    {
     "name": "stdout",
     "output_type": "stream",
     "text": [
      "End of epoch training loss: 0.0186\n",
      "Checkpoint saved at checkpoint.pth.\n",
      "Epoch 36 Summary: Train Loss = 0.0186, Validation Loss = N/A, LR = 0.000010\n",
      "Epoch 37/50\n"
     ]
    },
    {
     "data": {
      "application/vnd.jupyter.widget-view+json": {
       "model_id": "",
       "version_major": 2,
       "version_minor": 0
      },
      "text/plain": [
       "Training:   0%|          | 0/250 [00:00<?, ?it/s]"
      ]
     },
     "metadata": {},
     "output_type": "display_data"
    },
    {
     "name": "stdout",
     "output_type": "stream",
     "text": [
      "End of epoch training loss: 0.0177\n",
      "Checkpoint saved at checkpoint.pth.\n",
      "Epoch 37 Summary: Train Loss = 0.0177, Validation Loss = N/A, LR = 0.000010\n",
      "Epoch 38/50\n"
     ]
    },
    {
     "data": {
      "application/vnd.jupyter.widget-view+json": {
       "model_id": "",
       "version_major": 2,
       "version_minor": 0
      },
      "text/plain": [
       "Training:   0%|          | 0/250 [00:00<?, ?it/s]"
      ]
     },
     "metadata": {},
     "output_type": "display_data"
    },
    {
     "name": "stdout",
     "output_type": "stream",
     "text": [
      "End of epoch training loss: 0.0186\n",
      "Checkpoint saved at checkpoint.pth.\n",
      "Epoch 38 Summary: Train Loss = 0.0186, Validation Loss = N/A, LR = 0.000010\n",
      "Epoch 39/50\n"
     ]
    },
    {
     "data": {
      "application/vnd.jupyter.widget-view+json": {
       "model_id": "",
       "version_major": 2,
       "version_minor": 0
      },
      "text/plain": [
       "Training:   0%|          | 0/250 [00:00<?, ?it/s]"
      ]
     },
     "metadata": {},
     "output_type": "display_data"
    },
    {
     "name": "stdout",
     "output_type": "stream",
     "text": [
      "End of epoch training loss: 0.0181\n",
      "Checkpoint saved at checkpoint.pth.\n",
      "Epoch 39 Summary: Train Loss = 0.0181, Validation Loss = N/A, LR = 0.000010\n",
      "Epoch 40/50\n"
     ]
    },
    {
     "data": {
      "application/vnd.jupyter.widget-view+json": {
       "model_id": "",
       "version_major": 2,
       "version_minor": 0
      },
      "text/plain": [
       "Training:   0%|          | 0/250 [00:00<?, ?it/s]"
      ]
     },
     "metadata": {},
     "output_type": "display_data"
    },
    {
     "name": "stdout",
     "output_type": "stream",
     "text": [
      "End of epoch training loss: 0.0182\n"
     ]
    },
    {
     "data": {
      "application/vnd.jupyter.widget-view+json": {
       "model_id": "",
       "version_major": 2,
       "version_minor": 0
      },
      "text/plain": [
       "Validation:   0%|          | 0/50 [00:00<?, ?it/s]"
      ]
     },
     "metadata": {},
     "output_type": "display_data"
    },
    {
     "name": "stdout",
     "output_type": "stream",
     "text": [
      "End of epoch validation loss: 0.0188\n"
     ]
    },
    {
     "data": {
      "application/vnd.jupyter.widget-view+json": {
       "model_id": "31fdec54f08e4d9c808c2e85d4af1ee2",
       "version_major": 2,
       "version_minor": 0
      },
      "text/plain": [
       "  0%|          | 0/1000 [00:00<?, ?it/s]"
      ]
     },
     "metadata": {},
     "output_type": "display_data"
    },
    {
     "name": "stdout",
     "output_type": "stream",
     "text": [
      "Saved generated images to generated_images/generated_images_epoch_40.png\n",
      "Checkpoint saved at checkpoint.pth.\n",
      "Epoch 40 Summary: Train Loss = 0.0182, Validation Loss = 0.018783782981336115, LR = 0.000010\n",
      "Epoch 41/50\n"
     ]
    },
    {
     "data": {
      "application/vnd.jupyter.widget-view+json": {
       "model_id": "",
       "version_major": 2,
       "version_minor": 0
      },
      "text/plain": [
       "Training:   0%|          | 0/250 [00:00<?, ?it/s]"
      ]
     },
     "metadata": {},
     "output_type": "display_data"
    },
    {
     "name": "stdout",
     "output_type": "stream",
     "text": [
      "End of epoch training loss: 0.0181\n",
      "Checkpoint saved at checkpoint.pth.\n",
      "Epoch 41 Summary: Train Loss = 0.0181, Validation Loss = N/A, LR = 0.000010\n",
      "Epoch 42/50\n"
     ]
    },
    {
     "data": {
      "application/vnd.jupyter.widget-view+json": {
       "model_id": "",
       "version_major": 2,
       "version_minor": 0
      },
      "text/plain": [
       "Training:   0%|          | 0/250 [00:00<?, ?it/s]"
      ]
     },
     "metadata": {},
     "output_type": "display_data"
    },
    {
     "name": "stdout",
     "output_type": "stream",
     "text": [
      "End of epoch training loss: 0.0184\n",
      "Checkpoint saved at checkpoint.pth.\n",
      "Epoch 42 Summary: Train Loss = 0.0184, Validation Loss = N/A, LR = 0.000010\n",
      "Epoch 43/50\n"
     ]
    },
    {
     "data": {
      "application/vnd.jupyter.widget-view+json": {
       "model_id": "931fc2c51e5848a49b483bf05917fdba",
       "version_major": 2,
       "version_minor": 0
      },
      "text/plain": [
       "Training:   0%|          | 0/250 [00:00<?, ?it/s]"
      ]
     },
     "metadata": {},
     "output_type": "display_data"
    },
    {
     "name": "stdout",
     "output_type": "stream",
     "text": [
      "End of epoch training loss: 0.0187\n"
     ]
    },
    {
     "data": {
      "application/vnd.jupyter.widget-view+json": {
       "model_id": "",
       "version_major": 2,
       "version_minor": 0
      },
      "text/plain": [
       "Validation:   0%|          | 0/50 [00:00<?, ?it/s]"
      ]
     },
     "metadata": {},
     "output_type": "display_data"
    },
    {
     "name": "stdout",
     "output_type": "stream",
     "text": [
      "End of epoch validation loss: 0.0180\n"
     ]
    },
    {
     "data": {
      "application/vnd.jupyter.widget-view+json": {
       "model_id": "c0cb7d5273fa48ceb221f6f3e94898f6",
       "version_major": 2,
       "version_minor": 0
      },
      "text/plain": [
       "  0%|          | 0/1000 [00:00<?, ?it/s]"
      ]
     },
     "metadata": {},
     "output_type": "display_data"
    },
    {
     "name": "stdout",
     "output_type": "stream",
     "text": [
      "Saved generated images to generated_images/generated_images_epoch_45.png\n",
      "Best model saved at epoch 45 with validation loss 0.0180\n",
      "Checkpoint saved at checkpoint.pth.\n",
      "Epoch 45 Summary: Train Loss = 0.0187, Validation Loss = 0.018008443620055915, LR = 0.000010\n",
      "Epoch 46/50\n"
     ]
    },
    {
     "data": {
      "application/vnd.jupyter.widget-view+json": {
       "model_id": "",
       "version_major": 2,
       "version_minor": 0
      },
      "text/plain": [
       "Training:   0%|          | 0/250 [00:00<?, ?it/s]"
      ]
     },
     "metadata": {},
     "output_type": "display_data"
    },
    {
     "name": "stdout",
     "output_type": "stream",
     "text": [
      "End of epoch training loss: 0.0182\n",
      "Checkpoint saved at checkpoint.pth.\n",
      "Epoch 46 Summary: Train Loss = 0.0182, Validation Loss = N/A, LR = 0.000010\n",
      "Epoch 47/50\n"
     ]
    },
    {
     "data": {
      "application/vnd.jupyter.widget-view+json": {
       "model_id": "",
       "version_major": 2,
       "version_minor": 0
      },
      "text/plain": [
       "Training:   0%|          | 0/250 [00:00<?, ?it/s]"
      ]
     },
     "metadata": {},
     "output_type": "display_data"
    },
    {
     "name": "stdout",
     "output_type": "stream",
     "text": [
      "End of epoch training loss: 0.0182\n",
      "Checkpoint saved at checkpoint.pth.\n",
      "Epoch 47 Summary: Train Loss = 0.0182, Validation Loss = N/A, LR = 0.000010\n",
      "Epoch 48/50\n"
     ]
    },
    {
     "data": {
      "application/vnd.jupyter.widget-view+json": {
       "model_id": "",
       "version_major": 2,
       "version_minor": 0
      },
      "text/plain": [
       "Training:   0%|          | 0/250 [00:00<?, ?it/s]"
      ]
     },
     "metadata": {},
     "output_type": "display_data"
    },
    {
     "name": "stdout",
     "output_type": "stream",
     "text": [
      "End of epoch training loss: 0.0181\n",
      "Checkpoint saved at checkpoint.pth.\n",
      "Epoch 48 Summary: Train Loss = 0.0181, Validation Loss = N/A, LR = 0.000010\n",
      "Epoch 49/50\n"
     ]
    },
    {
     "data": {
      "application/vnd.jupyter.widget-view+json": {
       "model_id": "",
       "version_major": 2,
       "version_minor": 0
      },
      "text/plain": [
       "Training:   0%|          | 0/250 [00:00<?, ?it/s]"
      ]
     },
     "metadata": {},
     "output_type": "display_data"
    },
    {
     "name": "stdout",
     "output_type": "stream",
     "text": [
      "End of epoch training loss: 0.0182\n",
      "Checkpoint saved at checkpoint.pth.\n",
      "Epoch 49 Summary: Train Loss = 0.0182, Validation Loss = N/A, LR = 0.000010\n",
      "Epoch 50/50\n"
     ]
    },
    {
     "data": {
      "application/vnd.jupyter.widget-view+json": {
       "model_id": "",
       "version_major": 2,
       "version_minor": 0
      },
      "text/plain": [
       "Training:   0%|          | 0/250 [00:00<?, ?it/s]"
      ]
     },
     "metadata": {},
     "output_type": "display_data"
    },
    {
     "name": "stdout",
     "output_type": "stream",
     "text": [
      "End of epoch training loss: 0.0182\n"
     ]
    },
    {
     "data": {
      "application/vnd.jupyter.widget-view+json": {
       "model_id": "",
       "version_major": 2,
       "version_minor": 0
      },
      "text/plain": [
       "Validation:   0%|          | 0/50 [00:00<?, ?it/s]"
      ]
     },
     "metadata": {},
     "output_type": "display_data"
    },
    {
     "name": "stdout",
     "output_type": "stream",
     "text": [
      "End of epoch validation loss: 0.0181\n"
     ]
    },
    {
     "data": {
      "application/vnd.jupyter.widget-view+json": {
       "model_id": "c3d063860863422c9e91fcb33eeadd7f",
       "version_major": 2,
       "version_minor": 0
      },
      "text/plain": [
       "  0%|          | 0/1000 [00:00<?, ?it/s]"
      ]
     },
     "metadata": {},
     "output_type": "display_data"
    },
    {
     "name": "stdout",
     "output_type": "stream",
     "text": [
      "Saved generated images to generated_images/generated_images_epoch_50.png\n",
      "Checkpoint saved at checkpoint.pth.\n",
      "Epoch 50 Summary: Train Loss = 0.0182, Validation Loss = 0.01810223326086998, LR = 0.000010\n"
     ]
    },
    {
     "data": {
      "image/png": "[encoded data removed]",
      "text/plain": [
       "<Figure size 1000x500 with 1 Axes>"
      ]
     },
     "metadata": {},
     "output_type": "display_data"
    }
   ],
   "source": [
    "config['epochs'] = 50\n",
    "train_and_validate(unet, train_dataloader, valid_dataloader, optimizer, scaler, criterion, scheduler, config, device, load_last_checkpoint=True)"
   ]
  },
  {
   "cell_type": "code",
   "execution_count": 40,
   "metadata": {
    "execution": {
     "iopub.execute_input": "2025-02-07T15:35:19.171137Z",
     "iopub.status.busy": "2025-02-07T15:35:19.170764Z",
     "iopub.status.idle": "2025-02-07T15:35:19.187541Z",
     "shell.execute_reply": "2025-02-07T15:35:19.186346Z",
     "shell.execute_reply.started": "2025-02-07T15:35:19.171073Z"
    },
    "trusted": true
   },
   "outputs": [],
   "source": [
    "def forward_diffusion(image, config, device):\n",
    "    \"\"\"\n",
    "    Perform forward diffusion on a single image.\n",
    "    \"\"\"\n",
    "    steps = config[\"steps\"]\n",
    "    beta = torch.linspace(config[\"beta_start\"], config[\"beta_end\"], steps).to(device)\n",
    "    sqrt_beta = torch.sqrt(beta).view(-1, 1, 1, 1)\n",
    "    alpha = 1 - beta\n",
    "    alphas_cumprod = torch.cumprod(alpha, dim=0)\n",
    "    sqrt_alphas_cumprod = torch.sqrt(alphas_cumprod).view(-1, 1, 1, 1)\n",
    "    sqrt_one_minus_alphas_cumprod = torch.sqrt(1 - alphas_cumprod).view(-1, 1, 1, 1)\n",
    "    \n",
    "    noisy_images = []\n",
    "    for t in range(steps):\n",
    "        noise = torch.randn_like(image).to(device)\n",
    "        noisy_image = (\n",
    "            sqrt_alphas_cumprod[t] * image + sqrt_one_minus_alphas_cumprod[t] * noise\n",
    "        )\n",
    "        noisy_images.append(noisy_image)\n",
    "    \n",
    "    return noisy_images\n",
    "\n",
    "def backward_diffusion(unet, noisy_images, config, device):\n",
    "    \"\"\"\n",
    "    Perform backward diffusion to generate a denoised image.\n",
    "    \"\"\"\n",
    "    steps = config[\"steps\"]\n",
    "    beta = torch.linspace(config[\"beta_start\"], config[\"beta_end\"], steps).to(device)\n",
    "    sqrt_beta = torch.sqrt(beta).view(-1, 1, 1, 1)\n",
    "    alpha = 1 - beta\n",
    "    sqrt_one_minus_alphas_cumprod = torch.sqrt(1 - torch.cumprod(alpha, dim=0)).view(-1, 1, 1, 1)\n",
    "    \n",
    "    unet.eval()\n",
    "    generated_images = []\n",
    "    x = noisy_images[-1].unsqueeze(0)  # Add batch dimension\n",
    "    with torch.no_grad():\n",
    "        for t in range(steps - 1, -1, -1):\n",
    "            t_tensor = torch.tensor([t], dtype=torch.long).to(device)\n",
    "            predicted_noise = unet(x, t_tensor, None)\n",
    "            noise = torch.randn_like(x).to(device) if t > 0 else torch.zeros_like(x).to(device)\n",
    "            x = (\n",
    "                1 / torch.sqrt(alpha[t]) * (x - beta[t] / sqrt_one_minus_alphas_cumprod[t] * predicted_noise)\n",
    "                + sqrt_beta[t] * noise\n",
    "            )\n",
    "            generated_images.append(x.squeeze(0))  # Remove batch dimension\n",
    "    \n",
    "    generated_images.append(generated_images[-1])  # Ensure step 0 is at the end\n",
    "    return generated_images\n",
    "\n",
    "def plot_forward_process(noisy_images):\n",
    "    \"\"\"\n",
    "    Plot the forward diffusion process.\n",
    "    \"\"\"\n",
    "    fig, axes = plt.subplots(1, 11, figsize=(22, 5))\n",
    "    steps_ordered = [0, 100, 200, 300, 400, 500, 600, 700, 800, 900, 1000]\n",
    "    steps_ordered = [min(step, len(noisy_images) - 1) for step in steps_ordered]\n",
    "    \n",
    "    for i, step in enumerate(steps_ordered):\n",
    "        axes[i].imshow((noisy_images[step].permute(1, 2, 0) * 0.5 + 0.5).clamp(0, 1).cpu())\n",
    "        axes[i].axis(\"off\")\n",
    "        axes[i].set_title(f\"Step {step}\")\n",
    "    \n",
    "    plt.suptitle(\"Forward Diffusion Process\")\n",
    "    plt.tight_layout()\n",
    "    plt.show()\n",
    "\n",
    "def plot_backward_process(generated_images):\n",
    "    \"\"\"\n",
    "    Plot the backward diffusion process.\n",
    "    \"\"\"\n",
    "    fig, axes = plt.subplots(1, 11, figsize=(22, 5))\n",
    "    steps_ordered = [0, 100, 200, 300, 400, 500, 600, 700, 800, 900, 1000]\n",
    "    steps_ordered = [min(step, len(generated_images) - 1) for step in steps_ordered]\n",
    "    steps_ordered_reverse = list(reversed(steps_ordered))\n",
    "    \n",
    "    for i, step in enumerate(steps_ordered):\n",
    "        axes[i].imshow((generated_images[step].permute(1, 2, 0) * 0.5 + 0.5).clamp(0, 1).cpu())\n",
    "        axes[i].axis(\"off\")\n",
    "        axes[i].set_title(f\"Step {steps_ordered_reverse[i]}\")\n",
    "    \n",
    "    plt.suptitle(\"Backward Diffusion Process\")\n",
    "    plt.tight_layout()\n",
    "    plt.show()\n",
    "\n",
    "def visualize_diffusion_process(unet, dataloader, config, device):\n",
    "    \"\"\"\n",
    "    Visualize the forward and backward diffusion processes for a random sample.\n",
    "    \"\"\"\n",
    "    images, _ = next(iter(dataloader))\n",
    "    random_idx = random.randint(0, images.size(0) - 1)\n",
    "    image = images[random_idx].to(device)\n",
    "    \n",
    "    # Perform forward diffusion\n",
    "    noisy_images = forward_diffusion(image, config, device)\n",
    "    plot_forward_process(noisy_images)\n",
    "    \n",
    "    # Perform backward diffusion\n",
    "    generated_images = backward_diffusion(unet, noisy_images, config, device)\n",
    "    plot_backward_process(generated_images)"
   ]
  },
  {
   "cell_type": "code",
   "execution_count": null,
   "metadata": {
    "trusted": true
   },
   "outputs": [],
   "source": [
    "visualize_diffusion_process(unet, valid_dataloader, config, device)"
   ]
  },
  {
   "cell_type": "code",
   "execution_count": 42,
   "metadata": {
    "execution": {
     "iopub.execute_input": "2025-02-07T15:36:06.439398Z",
     "iopub.status.busy": "2025-02-07T15:36:06.438859Z",
     "iopub.status.idle": "2025-02-07T15:36:06.455897Z",
     "shell.execute_reply": "2025-02-07T15:36:06.454754Z",
     "shell.execute_reply.started": "2025-02-07T15:36:06.439352Z"
    },
    "trusted": true
   },
   "outputs": [],
   "source": [
    "import torch\n",
    "import matplotlib.pyplot as plt\n",
    "from tqdm import tqdm\n",
    "\n",
    "def generate_samples_per_class(unet, num_classes, num_samples_per_class, config, device):\n",
    "    \"\"\"\n",
    "    Generate random samples from each class using the diffusion U-Net.\n",
    "\n",
    "    Args:\n",
    "        unet: The trained diffusion U-Net model.\n",
    "        num_classes: Total number of classes.\n",
    "        num_samples_per_class: Number of samples to generate per class.\n",
    "        config: Dictionary containing model and diffusion configurations (steps, beta_start, beta_end).\n",
    "        device: Torch device (e.g., 'cuda' or 'cpu').\n",
    "\n",
    "    Returns:\n",
    "        A dictionary mapping each class to a list of generated samples.\n",
    "    \"\"\"\n",
    "    steps = config[\"steps\"]\n",
    "    beta = torch.linspace(config[\"beta_start\"], config[\"beta_end\"], steps).to(device)\n",
    "    alpha = 1 - beta\n",
    "    sqrt_beta = torch.sqrt(beta).view(-1, 1, 1, 1)\n",
    "    alphas_cumprod = torch.cumprod(alpha, dim=0)\n",
    "    sqrt_one_minus_alphas_cumprod = torch.sqrt(1 - alphas_cumprod).view(-1, 1, 1, 1)\n",
    "    sqrt_alphas_cumprod = torch.sqrt(alphas_cumprod).view(-1, 1, 1, 1)\n",
    "\n",
    "    # Dictionary to store generated samples per class\n",
    "    generated_samples = {cls: [] for cls in range(num_classes)}\n",
    "\n",
    "    unet.eval()\n",
    "    with torch.no_grad():\n",
    "        for cls in range(num_classes):\n",
    "            for _ in tqdm(range(num_samples_per_class), desc=f\"Generating samples for class {cls}\", leave=False):\n",
    "                # Start with random noise\n",
    "                x = torch.randn(1, 3, config[\"image_size\"], config[\"image_size\"]).to(device)\n",
    "                for t in range(steps - 1, -1, -1):\n",
    "                    t_tensor = torch.tensor([t], dtype=torch.long).to(device)\n",
    "                    class_tensor = torch.tensor([cls], dtype=torch.long).to(device)\n",
    "                    predicted_noise = unet(x, t_tensor, class_tensor)\n",
    "                    if t == 0:\n",
    "                        noise = torch.zeros_like(x).to(device)\n",
    "                    else:\n",
    "                        noise = torch.randn_like(x).to(device)\n",
    "                    x = (\n",
    "                        1 / torch.sqrt(alpha[t]) * (x - beta[t] / sqrt_one_minus_alphas_cumprod[t] * predicted_noise)\n",
    "                        + sqrt_beta[t] * noise\n",
    "                    )\n",
    "                # Append the generated sample (clamped for valid image range)\n",
    "                generated_samples[cls].append(x.squeeze(0).clamp(0, 1).cpu())\n",
    "\n",
    "    return generated_samples"
   ]
  },
  {
   "cell_type": "code",
   "execution_count": null,
   "metadata": {
    "trusted": true
   },
   "outputs": [],
   "source": [
    "# Example usage\n",
    "num_classes = 10\n",
    "num_samples_per_class = 5\n",
    "\n",
    "# Assuming `unet` is a trained diffusion model\n",
    "generated_samples = generate_samples_per_class(unet, num_classes, num_samples_per_class, config, device)\n",
    "\n",
    "# Plotting the generated samples for visualization\n",
    "fig, axes = plt.subplots(num_classes, num_samples_per_class, figsize=(num_samples_per_class * 2, num_classes * 2))\n",
    "for cls, samples in generated_samples.items():\n",
    "    for i, sample in enumerate(samples):\n",
    "        axes[cls, i].imshow((sample.permute(1, 2, 0) * 0.5 + 0.5).numpy())\n",
    "        axes[cls, i].axis(\"off\")\n",
    "        if i == 0:\n",
    "            axes[cls, i].set_ylabel(f\"Class {cls}\", fontsize=12)\n",
    "plt.tight_layout()\n",
    "plt.show()"
   ]
  },
  {
   "cell_type": "code",
   "execution_count": 20,
   "metadata": {
    "execution": {
     "iopub.execute_input": "2025-01-22T20:19:08.389253Z",
     "iopub.status.busy": "2025-01-22T20:19:08.388927Z",
     "iopub.status.idle": "2025-01-22T20:19:08.394971Z",
     "shell.execute_reply": "2025-01-22T20:19:08.393828Z",
     "shell.execute_reply.started": "2025-01-22T20:19:08.389228Z"
    },
    "trusted": true
   },
   "outputs": [
    {
     "name": "stdout",
     "output_type": "stream",
     "text": [
      "/kaggle/working/selected_file.zip does not exist.\n"
     ]
    }
   ],
   "source": [
    "import os\n",
    "\n",
    "# Path to the file to be removed\n",
    "file_path = \"/kaggle/working/selected_file.zip\"\n",
    "\n",
    "# Remove the file\n",
    "if os.path.exists(file_path):\n",
    "    os.remove(file_path)\n",
    "    print(f\"{file_path} has been removed.\")\n",
    "else:\n",
    "    print(f\"{file_path} does not exist.\")"
   ]
  },
  {
   "cell_type": "code",
   "execution_count": 25,
   "metadata": {
    "execution": {
     "iopub.execute_input": "2025-01-22T21:58:36.870229Z",
     "iopub.status.busy": "2025-01-22T21:58:36.869828Z",
     "iopub.status.idle": "2025-01-22T21:58:38.387092Z",
     "shell.execute_reply": "2025-01-22T21:58:38.386135Z",
     "shell.execute_reply.started": "2025-01-22T21:58:36.870194Z"
    },
    "trusted": true
   },
   "outputs": [
    {
     "name": "stdout",
     "output_type": "stream",
     "text": [
      "Selected files and folders have been zipped into /kaggle/working/model_and_images.zip\n"
     ]
    }
   ],
   "source": [
    "import zipfile\n",
    "import os\n",
    "\n",
    "# Define the paths of the files and folders to include in the zip\n",
    "files_to_zip = [\n",
    "    \"/kaggle/working/best_unet_model.pth\",\n",
    "    # \"/kaggle/working/checkpoint.pth\",\n",
    "    \"/kaggle/working/generated_images\",\n",
    "    \n",
    "]\n",
    "\n",
    "# Output zip file\n",
    "output_zip_file = \"/kaggle/working/model_and_images.zip\"\n",
    "\n",
    "# Create a ZipFile object\n",
    "with zipfile.ZipFile(output_zip_file, 'w') as zipf:\n",
    "    for item in files_to_zip:\n",
    "        if os.path.isfile(item):\n",
    "            # If the item is a file, add it directly\n",
    "            zipf.write(item, os.path.basename(item))\n",
    "        elif os.path.isdir(item):\n",
    "            # If the item is a folder, add all its contents\n",
    "            for root, _, files in os.walk(item):\n",
    "                for file in files:\n",
    "                    file_path = os.path.join(root, file)\n",
    "                    arcname = os.path.relpath(file_path, start=\"/kaggle/working\")\n",
    "                    zipf.write(file_path, arcname)\n",
    "\n",
    "print(f\"Selected files and folders have been zipped into {output_zip_file}\")\n"
   ]
  }
 ],
 "metadata": {
  "kaggle": {
   "accelerator": "gpu",
   "dataSources": [],
   "dockerImageVersionId": 30823,
   "isGpuEnabled": true,
   "isInternetEnabled": true,
   "language": "python",
   "sourceType": "notebook"
  },
  "kernelspec": {
   "display_name": "Python 3",
   "language": "python",
   "name": "python3"
  },
  "language_info": {
   "codemirror_mode": {
    "name": "ipython",
    "version": 3
   },
   "file_extension": ".py",
   "mimetype": "text/x-python",
   "name": "python",
   "nbconvert_exporter": "python",
   "pygments_lexer": "ipython3",
   "version": "3.10.12"
  }
 },
 "nbformat": 4,
 "nbformat_minor": 4
}
